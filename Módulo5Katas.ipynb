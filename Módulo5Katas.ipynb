{
 "cells": [
  {
   "cell_type": "code",
   "execution_count": 7,
   "metadata": {},
   "outputs": [
    {
     "name": "stdout",
     "output_type": "stream",
     "text": [
      "Ejercicio 1 - Utilizar operadores aritméticos\n",
      "La distancia de la tierra es 149597870km y la distancia de jupiter es 778547200\n",
      "Entonces la distancia entre los dos es de: 628949330 km\n",
      "Y la distancia en millas es de: 390577534 millas\n"
     ]
    }
   ],
   "source": [
    "print(\"Ejercicio 1 - Utilizar operadores aritméticos\")\n",
    "tierra=149597870\n",
    "jupiter=778547200\n",
    "#ambos estan en kilometros\n",
    "distancia_km= jupiter-tierra\n",
    "distancia_millas= distancia_km*0.621\n",
    "print(\"La distancia de la tierra es \"+ str(tierra)+ \" km y la distancia de jupiter es \"+ str(jupiter))\n",
    "\n",
    "print(\"Entonces la distancia entre los dos es de: \" + str(distancia_km) + \" km\")\n",
    "print(\"Y la distancia en millas es de: \" +str(round(distancia_millas))+ \" millas\")"
   ]
  },
  {
   "cell_type": "code",
   "execution_count": 12,
   "metadata": {},
   "outputs": [
    {
     "name": "stdout",
     "output_type": "stream",
     "text": [
      "Ejercicio 2: convierte cadenas en números y usa valores absolutos\n",
      "La distancia de la tierra es 149597870 km y la distancia de jupiter es 778547200\n",
      "La distancia entre jupiter y la tierra es de: 628949330 km\n",
      "Y la distancia en millas es de: 390577534 millas\n"
     ]
    }
   ],
   "source": [
    "print(\"Ejercicio 2: convierte cadenas en números y usa valores absolutos\")\n",
    "tierra= input(\"Ingresa por favor la distancia de la tierra al sol en km\")\n",
    "tierra=int(tierra)\n",
    "jupiter= input(\"Ingresa por favor la distancia de jupiter al sol en km\")\n",
    "jupiter=int(jupiter)\n",
    "print(\"La distancia de la tierra es \"+ str(tierra)+ \" km y la distancia de jupiter es \"+ str(jupiter))\n",
    "distancia_km=abs(tierra-jupiter)\n",
    "distancia_millas=distancia_km*0.621\n",
    "print(\"La distancia entre jupiter y la tierra es de: \" +str(distancia_km)+ \" km\")\n",
    "print(\"Y la distancia en millas es de: \" +str(round(distancia_millas))+ \" millas\")"
   ]
  }
 ],
 "metadata": {
  "interpreter": {
   "hash": "6d789933423f2026dd762f632057f7ae59cc19f3153fdbf8a64e7992d654ea7e"
  },
  "kernelspec": {
   "display_name": "Python 3.10.2 64-bit",
   "language": "python",
   "name": "python3"
  },
  "language_info": {
   "codemirror_mode": {
    "name": "ipython",
    "version": 3
   },
   "file_extension": ".py",
   "mimetype": "text/x-python",
   "name": "python",
   "nbconvert_exporter": "python",
   "pygments_lexer": "ipython3",
   "version": "3.10.2"
  },
  "orig_nbformat": 4
 },
 "nbformat": 4,
 "nbformat_minor": 2
}
